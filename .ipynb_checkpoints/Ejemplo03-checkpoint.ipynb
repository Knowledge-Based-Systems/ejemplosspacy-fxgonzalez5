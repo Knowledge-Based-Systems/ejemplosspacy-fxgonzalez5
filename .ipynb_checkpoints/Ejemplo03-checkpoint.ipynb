{
 "cells": [
  {
   "cell_type": "code",
   "execution_count": 3,
   "id": "4a14f292",
   "metadata": {},
   "outputs": [],
   "source": [
    "# Importa spaCy\n",
    "import spacy\n",
    "# Importa el Matcher\n",
    "from spacy.matcher import Matcher"
   ]
  },
  {
   "cell_type": "markdown",
   "id": "fc317cc0",
   "metadata": {},
   "source": [
    "# Encontrando patrones basados en reglas\n",
    "## Usando el Matcher"
   ]
  },
  {
   "cell_type": "code",
   "execution_count": 8,
   "id": "4faf10bf",
   "metadata": {},
   "outputs": [],
   "source": [
    "# Carga el modelo y crea un objeto nlp\n",
    "nlp = spacy.load(\"es_core_news_sm\")"
   ]
  },
  {
   "cell_type": "code",
   "execution_count": 9,
   "id": "02f5e56f",
   "metadata": {},
   "outputs": [],
   "source": [
    "# Inicializa el matcher con el vocabulario compartido\n",
    "matcher = Matcher(nlp.vocab)"
   ]
  },
  {
   "cell_type": "code",
   "execution_count": 10,
   "id": "30614e23",
   "metadata": {},
   "outputs": [],
   "source": [
    "# Añade el patrón al matcher\n",
    "pattern = [{\"TEXT\": \"adidas\"}, {\"TEXT\": \"zx\"}]\n",
    "matcher.add(\"ADIDAS_PATTERN\", [pattern])"
   ]
  },
  {
   "cell_type": "code",
   "execution_count": 15,
   "id": "3741564f",
   "metadata": {},
   "outputs": [],
   "source": [
    "# Procesa un texto\n",
    "doc = nlp(\"Nuevos diseños de zapatillas en la colección adidas zx\")\n",
    "\n",
    "# Llama al matcher sobre el doc\n",
    "matches = matcher(doc)"
   ]
  },
  {
   "cell_type": "code",
   "execution_count": 16,
   "id": "bba3b267",
   "metadata": {},
   "outputs": [
    {
     "name": "stdout",
     "output_type": "stream",
     "text": [
      "adidas zx\n"
     ]
    }
   ],
   "source": [
    "# Itera sobre los resultados\n",
    "for match_id, start, end in matches:\n",
    "    # Obtén el span resultante\n",
    "    matched_span = doc[start:end]\n",
    "    print(matched_span.text)\n",
    "    \n",
    "# match_id: valor del hash del nombre del patrón\n",
    "# start: índice de inicio del span resultante\n",
    "# end: índice del final del span resultante"
   ]
  },
  {
   "cell_type": "markdown",
   "id": "6247f314",
   "metadata": {},
   "source": [
    "## Encontrando por atributos léxicos"
   ]
  },
  {
   "cell_type": "code",
   "execution_count": 28,
   "id": "e21e3cc6",
   "metadata": {},
   "outputs": [
    {
     "name": "stdout",
     "output_type": "stream",
     "text": [
      "2014 Copa Mundial FIFA:\n"
     ]
    }
   ],
   "source": [
    "pattern = [\n",
    "    {\"IS_DIGIT\": True},\n",
    "    {\"LOWER\": \"copa\"},\n",
    "    {\"LOWER\": \"mundial\"},\n",
    "    {\"LOWER\": \"fifa\"},\n",
    "    {\"IS_PUNCT\": True}\n",
    "]\n",
    "\n",
    "matcher.add(\"COPA_PATTERN\", [pattern])\n",
    "\n",
    "doc = nlp(\"2014 Copa Mundial FIFA: Alemania ganó!\")\n",
    "\n",
    "matches = matcher(doc)\n",
    "\n",
    "for match_id, start, end in matches:\n",
    "    matched_span = doc[start:end]\n",
    "    print(matched_span.text)"
   ]
  },
  {
   "cell_type": "markdown",
   "id": "ca1a6221",
   "metadata": {},
   "source": [
    "## Encontrando por otros atributos del token"
   ]
  },
  {
   "cell_type": "code",
   "execution_count": 32,
   "id": "3b70e8de",
   "metadata": {},
   "outputs": [
    {
     "name": "stdout",
     "output_type": "stream",
     "text": [
      "comer sushi\n"
     ]
    }
   ],
   "source": [
    "pattern = [\n",
    "    {\"LEMMA\": \"comer\", \"POS\": \"VERB\"},\n",
    "    {\"POS\": \"NOUN\"}\n",
    "]\n",
    "\n",
    "matcher.add(\"COMIDA_PATTERN\", [pattern])\n",
    "\n",
    "doc = nlp(\"Camila prefería comer sushi. Pero ahora está comiendo pasta.\")\n",
    "\n",
    "matches = matcher(doc)\n",
    "\n",
    "for match_id, start, end in matches:\n",
    "    matched_span = doc[start:end]\n",
    "    print(matched_span.text)"
   ]
  },
  {
   "cell_type": "markdown",
   "id": "b18d8deb",
   "metadata": {},
   "source": [
    "## Usando operadores y cuantificadores"
   ]
  },
  {
   "cell_type": "code",
   "execution_count": 31,
   "id": "dd57263d",
   "metadata": {},
   "outputs": [
    {
     "name": "stdout",
     "output_type": "stream",
     "text": [
      "comprando aplicaciones\n"
     ]
    }
   ],
   "source": [
    "pattern = [\n",
    "    {\"LEMMA\": \"comprar\"},\n",
    "    {\"POS\": \"DET\", \"OP\": \"?\"},  # opcional: encuentra 0 o 1 ocurrencias\n",
    "    {\"POS\": \"NOUN\"}\n",
    "]\n",
    "\n",
    "matcher.add(\"COMPRAS_PATTERN\", [pattern])\n",
    "\n",
    "doc = nlp(\"Me compré un smartphone. Ahora le estoy comprando aplicaciones.\")\n",
    "\n",
    "matches = matcher(doc)\n",
    "\n",
    "for match_id, start, end in matches:\n",
    "    matched_span = doc[start:end]\n",
    "    print(matched_span.text)"
   ]
  }
 ],
 "metadata": {
  "kernelspec": {
   "display_name": "Python 3 (ipykernel)",
   "language": "python",
   "name": "python3"
  },
  "language_info": {
   "codemirror_mode": {
    "name": "ipython",
    "version": 3
   },
   "file_extension": ".py",
   "mimetype": "text/x-python",
   "name": "python",
   "nbconvert_exporter": "python",
   "pygments_lexer": "ipython3",
   "version": "3.10.2"
  }
 },
 "nbformat": 4,
 "nbformat_minor": 5
}
