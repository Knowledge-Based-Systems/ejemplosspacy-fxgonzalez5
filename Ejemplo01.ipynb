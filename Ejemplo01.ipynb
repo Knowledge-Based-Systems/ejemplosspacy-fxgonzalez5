{
 "cells": [
  {
   "cell_type": "code",
   "execution_count": 13,
   "id": "491db31e",
   "metadata": {},
   "outputs": [],
   "source": [
    "# Importa spaCy\n",
    "import spacy"
   ]
  },
  {
   "cell_type": "markdown",
   "id": "eea97de3",
   "metadata": {},
   "source": [
    "# Introducción"
   ]
  },
  {
   "cell_type": "code",
   "execution_count": 4,
   "id": "773e39cd",
   "metadata": {},
   "outputs": [],
   "source": [
    "# Crea un objeto nlp vacío para procesar español\n",
    "nlp = spacy.blank(\"es\")"
   ]
  },
  {
   "cell_type": "code",
   "execution_count": 20,
   "id": "ee17286c",
   "metadata": {},
   "outputs": [],
   "source": [
    "# Creado al procesar un string de texto con el objeto nlp\n",
    "doc = nlp(\"¡Hola Mundo!\")"
   ]
  },
  {
   "cell_type": "code",
   "execution_count": 21,
   "id": "771e6537",
   "metadata": {},
   "outputs": [
    {
     "name": "stdout",
     "output_type": "stream",
     "text": [
      "¡Hola Mundo!\n"
     ]
    }
   ],
   "source": [
    "# Imprime en pantalla el texto del documento\n",
    "print(doc.text)"
   ]
  },
  {
   "cell_type": "code",
   "execution_count": 8,
   "id": "42eaa96a",
   "metadata": {},
   "outputs": [
    {
     "name": "stdout",
     "output_type": "stream",
     "text": [
      "¡\n",
      "Hola\n",
      "Mundo\n",
      "!\n"
     ]
    }
   ],
   "source": [
    "# Itera sobre los tokens en un Doc\n",
    "for token in doc:\n",
    "    print(token.text)"
   ]
  },
  {
   "cell_type": "code",
   "execution_count": 11,
   "id": "ecbfc094",
   "metadata": {},
   "outputs": [
    {
     "name": "stdout",
     "output_type": "stream",
     "text": [
      "Mundo\n"
     ]
    }
   ],
   "source": [
    "# Usa el índice del Doc para obtener un solo Token\n",
    "token = doc[2]\n",
    "# Obtén el texto del token a través del atributo .text\n",
    "print(token.text)"
   ]
  },
  {
   "cell_type": "code",
   "execution_count": 25,
   "id": "da6e5c95",
   "metadata": {},
   "outputs": [
    {
     "name": "stdout",
     "output_type": "stream",
     "text": [
      "Mundo!\n"
     ]
    }
   ],
   "source": [
    "# Un slice de un Doc en un objeto Span\n",
    "span = doc[2:4]\n",
    "\n",
    "# Obtén el texto del span a través del atributo .text\n",
    "print(span.text)"
   ]
  },
  {
   "cell_type": "markdown",
   "id": "cbafdd59",
   "metadata": {},
   "source": [
    "# Atributos léxicos"
   ]
  },
  {
   "cell_type": "code",
   "execution_count": 19,
   "id": "e41951b5",
   "metadata": {},
   "outputs": [
    {
     "name": "stdout",
     "output_type": "stream",
     "text": [
      "Índice:    [0, 1, 2, 3, 4]\n",
      "Texto:     ['Eso', 'cuesta', '$', '5', '.']\n",
      "is_alpha: [True, True, False, False, False]\n",
      "is_punct: [False, False, False, False, True]\n",
      "like_num: [False, False, False, True, False]\n"
     ]
    }
   ],
   "source": [
    "doc = nlp(\"Eso cuesta $5.\")\n",
    "print(\"Índice:   \", [token.i for token in doc])\n",
    "print(\"Texto:    \", [token.text for token in doc])\n",
    "\n",
    "print(\"is_alpha:\", [token.is_alpha for token in doc])\n",
    "print(\"is_punct:\", [token.is_punct for token in doc])\n",
    "print(\"like_num:\", [token.like_num for token in doc])"
   ]
  }
 ],
 "metadata": {
  "kernelspec": {
   "display_name": "Python 3 (ipykernel)",
   "language": "python",
   "name": "python3"
  },
  "language_info": {
   "codemirror_mode": {
    "name": "ipython",
    "version": 3
   },
   "file_extension": ".py",
   "mimetype": "text/x-python",
   "name": "python",
   "nbconvert_exporter": "python",
   "pygments_lexer": "ipython3",
   "version": "3.10.2"
  }
 },
 "nbformat": 4,
 "nbformat_minor": 5
}
