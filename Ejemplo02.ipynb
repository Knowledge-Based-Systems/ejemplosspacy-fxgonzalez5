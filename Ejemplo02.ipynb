{
 "cells": [
  {
   "cell_type": "code",
   "execution_count": 2,
   "id": "64782faa",
   "metadata": {},
   "outputs": [],
   "source": [
    "# Importa spaCy\n",
    "import spacy"
   ]
  },
  {
   "cell_type": "markdown",
   "id": "7034b5e8",
   "metadata": {},
   "source": [
    "# Paquetes de pipelines"
   ]
  },
  {
   "cell_type": "code",
   "execution_count": 4,
   "id": "7855f4a7",
   "metadata": {},
   "outputs": [],
   "source": [
    "# Carga el pipeline pequeño de español\n",
    "nlp = spacy.load(\"es_core_news_sm\")"
   ]
  },
  {
   "cell_type": "code",
   "execution_count": 14,
   "id": "d1edb216",
   "metadata": {},
   "outputs": [],
   "source": [
    "# Procesa un texto\n",
    "doc = nlp(\"Ella comió pizza\")"
   ]
  },
  {
   "cell_type": "code",
   "execution_count": 15,
   "id": "20695a88",
   "metadata": {},
   "outputs": [
    {
     "name": "stdout",
     "output_type": "stream",
     "text": [
      "Ella PRON nsubj\n",
      "comió VERB ROOT\n",
      "pizza PROPN obj\n"
     ]
    }
   ],
   "source": [
    "# Itera sobre los tokens\n",
    "for token in doc:\n",
    "    # Imprime en pantalla el texto y la etiqueta gramatical predicha\n",
    "    print(token.text, token.pos_, token.dep_)"
   ]
  },
  {
   "cell_type": "markdown",
   "id": "a0399350",
   "metadata": {},
   "source": [
    "## Prediciendo entidades nombradas"
   ]
  },
  {
   "cell_type": "markdown",
   "id": "7d9ed9cd",
   "metadata": {},
   "source": [
    "<img src=\"https://course.spacy.io/ner_example_es.png\">"
   ]
  },
  {
   "cell_type": "code",
   "execution_count": 9,
   "id": "2578a8ad",
   "metadata": {},
   "outputs": [
    {
     "name": "stdout",
     "output_type": "stream",
     "text": [
      "Apple ORG\n",
      "EE.UU. LOC\n",
      "iPhone MISC\n",
      "Galaxy Note 9 MISC\n"
     ]
    }
   ],
   "source": [
    "# Procesa un texto\n",
    "doc = nlp(\n",
    "    \"Apple es la marca que más satisfacción genera en EE.UU., \"\n",
    "    \"pero el iPhone, fue superado por el Galaxy Note 9\"\n",
    ")\n",
    "\n",
    "# Itera sobre las entidades predichas\n",
    "for ent in doc.ents:\n",
    "    # Imprime en pantalla el texto y la etiqueta de la entidad\n",
    "    print(ent.text, ent.label_)"
   ]
  },
  {
   "cell_type": "code",
   "execution_count": 10,
   "id": "fc29298d",
   "metadata": {},
   "outputs": [
    {
     "data": {
      "text/plain": [
       "'Non-GPE locations, mountain ranges, bodies of water'"
      ]
     },
     "execution_count": 10,
     "metadata": {},
     "output_type": "execute_result"
    }
   ],
   "source": [
    "spacy.explain(\"LOC\")"
   ]
  },
  {
   "cell_type": "code",
   "execution_count": 16,
   "id": "1dc74e5c",
   "metadata": {},
   "outputs": [
    {
     "data": {
      "text/plain": [
       "'noun, proper singular'"
      ]
     },
     "execution_count": 16,
     "metadata": {},
     "output_type": "execute_result"
    }
   ],
   "source": [
    "spacy.explain(\"NNP\")"
   ]
  },
  {
   "cell_type": "code",
   "execution_count": 17,
   "id": "0ea4228f",
   "metadata": {},
   "outputs": [
    {
     "data": {
      "text/plain": [
       "'Miscellaneous entities, e.g. events, nationalities, products or works of art'"
      ]
     },
     "execution_count": 17,
     "metadata": {},
     "output_type": "execute_result"
    }
   ],
   "source": [
    "spacy.explain(\"MISC\")"
   ]
  }
 ],
 "metadata": {
  "kernelspec": {
   "display_name": "Python 3 (ipykernel)",
   "language": "python",
   "name": "python3"
  },
  "language_info": {
   "codemirror_mode": {
    "name": "ipython",
    "version": 3
   },
   "file_extension": ".py",
   "mimetype": "text/x-python",
   "name": "python",
   "nbconvert_exporter": "python",
   "pygments_lexer": "ipython3",
   "version": "3.10.2"
  }
 },
 "nbformat": 4,
 "nbformat_minor": 5
}
